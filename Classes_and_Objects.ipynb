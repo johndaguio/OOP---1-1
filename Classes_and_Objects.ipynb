{
  "nbformat": 4,
  "nbformat_minor": 0,
  "metadata": {
    "colab": {
      "name": "Classes and Objects.ipynb",
      "provenance": [],
      "authorship_tag": "ABX9TyNgQVztqBJLgrjcfCQkVTs6",
      "include_colab_link": true
    },
    "kernelspec": {
      "name": "python3",
      "display_name": "Python 3"
    },
    "language_info": {
      "name": "python"
    }
  },
  "cells": [
    {
      "cell_type": "markdown",
      "metadata": {
        "id": "view-in-github",
        "colab_type": "text"
      },
      "source": [
        "<a href=\"https://colab.research.google.com/github/johndaguio/OOP---1-1/blob/main/Classes_and_Objects.ipynb\" target=\"_parent\"><img src=\"https://colab.research.google.com/assets/colab-badge.svg\" alt=\"Open In Colab\"/></a>"
      ]
    },
    {
      "cell_type": "markdown",
      "source": [
        "Application 2 - Write a python program that displays the full name of a student, student number, age, course, and school. Create a class name OOP_1_1 and create Info() method to display the information of a student with full name, student_no, age, course, school as attributes"
      ],
      "metadata": {
        "id": "_Z55HFjC1lGG"
      }
    },
    {
      "cell_type": "code",
      "source": [
        "class OOP_1_1:\n",
        "  def __init__(self,fullname, student_no, age, course, school):\n",
        "    self.fullname = fullname\n",
        "    self.student_no = student_no\n",
        "    self.age = age\n",
        "    self.course = course\n",
        "    self.school = school\n",
        "\n",
        "  def Info(self):\n",
        "    #print(self.fullname, self.student_no,self.age,self.course,self.school)\n",
        "    print(\"My Name is\", self.fullname)\n",
        "    print(\"My Student Number is\", self.student_no)\n",
        "    print(\"My Age is\", self.age)\n",
        "    print(\"My Course is\", self.course)\n",
        "    print(\"My School is\", self.school)\n",
        " \n",
        "student = OOP_1_1(\"John Hendrick S. Daguio\",202101672, 18, \"BSCpE\", \"CVSU\")\n",
        "student.Info()"
      ],
      "metadata": {
        "colab": {
          "base_uri": "https://localhost:8080/"
        },
        "id": "aSUhmwzE1nZ2",
        "outputId": "af4bd254-0c9a-46c5-ad44-87f366230391"
      },
      "execution_count": 10,
      "outputs": [
        {
          "output_type": "stream",
          "name": "stdout",
          "text": [
            "My Name is John Hendrick S. Daguio\n",
            "My Student Number is 202101672\n",
            "My Age is 18\n",
            "My Course is BSCpE\n",
            "My School is CVSU\n"
          ]
        }
      ]
    },
    {
      "cell_type": "markdown",
      "source": [
        "Application 3 - Define an Area() method of the class Circle that calculates the circle's area. Define a Perimeter() method of the class which allows you to calculate the perimeter of the circle."
      ],
      "metadata": {
        "id": "KKcI_viM7XLU"
      }
    },
    {
      "cell_type": "code",
      "source": [
        "class Circle:\n",
        "  def __init__(self, pi, r):\n",
        "    self.pi = pi\n",
        "    self.r = r\n",
        "\n",
        "  def Area(self):\n",
        "    print(self.pi * self.r**2, \"is the circle's area \")\n",
        "  def Perimeter(self):\n",
        "    print( \"while\", self.pi * self. r*2, \"is the perimter of the circle \")\n",
        "  \n",
        "\n",
        "c = Circle (3.14, 9)\n",
        "c.Area()\n",
        "c.Perimeter()\n"
      ],
      "metadata": {
        "colab": {
          "base_uri": "https://localhost:8080/"
        },
        "id": "dJzevASm7wMp",
        "outputId": "d17aa7fa-4e56-457c-a81f-6ec8be53f822"
      },
      "execution_count": 15,
      "outputs": [
        {
          "output_type": "stream",
          "name": "stdout",
          "text": [
            "254.34 is the circle's area \n",
            "while 56.52 is the perimter of the circle \n"
          ]
        }
      ]
    }
  ]
}