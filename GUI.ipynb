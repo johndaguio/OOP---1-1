{
  "nbformat": 4,
  "nbformat_minor": 0,
  "metadata": {
    "colab": {
      "name": "GUI.ipynb",
      "provenance": [],
      "authorship_tag": "ABX9TyMrDVyRSD0PGanEsDZUDeC7",
      "include_colab_link": true
    },
    "kernelspec": {
      "name": "python3",
      "display_name": "Python 3"
    },
    "language_info": {
      "name": "python"
    }
  },
  "cells": [
    {
      "cell_type": "markdown",
      "metadata": {
        "id": "view-in-github",
        "colab_type": "text"
      },
      "source": [
        "<a href=\"https://colab.research.google.com/github/johndaguio/OOP---1-1/blob/main/GUI.ipynb\" target=\"_parent\"><img src=\"https://colab.research.google.com/assets/colab-badge.svg\" alt=\"Open In Colab\"/></a>"
      ]
    },
    {
      "cell_type": "markdown",
      "source": [
        "Students' Grade in OOP subject"
      ],
      "metadata": {
        "id": "Txxe5NPQTMUX"
      }
    },
    {
      "cell_type": "code",
      "source": [
        "#@title Students' Grade in OOP \n",
        "student_name = \"John Hendrick S. Daguio\" #@param {type:\"string\"}\n",
        "prelim =  90#@param {type:'number'}\n",
        "midterm =  85#@param {type:'number'}\n",
        "final = 100 #@param {type:'number'}\n",
        "semestral_grade = round((prelim + midterm+ final)/3,2)\n",
        "\n",
        "print(\"My prelim grade\" + str(prelim))\n",
        "print(\"My midterm grade\" + str(midterm))\n",
        "print(\"My final grade\" + str(final))\n",
        "print(\"My semestral grade is:\" + str(semestral_grade))\n",
        "\n",
        "Gender = \"Male\" #@param [\"Male\",\"Female\"]\n",
        "BirthDate = '2022-04-04' #@param {type:\"date\"}\n",
        "\n",
        "print(\"My birthdate is:\" + BirthDate)"
      ],
      "metadata": {
        "colab": {
          "base_uri": "https://localhost:8080/"
        },
        "id": "GRK7-a47TX9H",
        "outputId": "7a012303-d470-4274-97ec-e5f6984352ab"
      },
      "execution_count": 12,
      "outputs": [
        {
          "output_type": "stream",
          "name": "stdout",
          "text": [
            "My prelim grade90\n",
            "My midterm grade85\n",
            "My final grade100\n",
            "My semestral grade is:91.67\n",
            "My birthdate is:2022-04-04\n"
          ]
        }
      ]
    },
    {
      "cell_type": "markdown",
      "source": [
        "Tkinter module - pycharm"
      ],
      "metadata": {
        "id": "GBATs1nrZB9R"
      }
    }
  ]
}