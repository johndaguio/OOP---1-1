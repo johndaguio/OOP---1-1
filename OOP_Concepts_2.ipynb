{
  "nbformat": 4,
  "nbformat_minor": 0,
  "metadata": {
    "colab": {
      "name": "OOP Concepts 2.ipynb",
      "provenance": [],
      "authorship_tag": "ABX9TyMANLGM6EAi23teV+WV7EwM",
      "include_colab_link": true
    },
    "kernelspec": {
      "name": "python3",
      "display_name": "Python 3"
    },
    "language_info": {
      "name": "python"
    }
  },
  "cells": [
    {
      "cell_type": "markdown",
      "metadata": {
        "id": "view-in-github",
        "colab_type": "text"
      },
      "source": [
        "<a href=\"https://colab.research.google.com/github/johndaguio/OOP---1-1/blob/main/OOP_Concepts_2.ipynb\" target=\"_parent\"><img src=\"https://colab.research.google.com/assets/colab-badge.svg\" alt=\"Open In Colab\"/></a>"
      ]
    },
    {
      "cell_type": "markdown",
      "source": [
        "Classes with Multiple Objects"
      ],
      "metadata": {
        "id": "8-Gm7NZAMXUZ"
      }
    },
    {
      "cell_type": "code",
      "source": [
        "class Birds:\n",
        "  def __init__(self,birds_name):\n",
        "    self.birds_name = birds_name\n",
        "  def flying_birds(self):\n",
        "    print(f\"{self.birds_name} flies above the sky\")\n",
        "  def non_flying_birds(self):\n",
        "    print(f\"{self.birds_name} is the national bird of Australia\")\n",
        "\n",
        "vulture = Birds(\"Griffon Vulture\")\n",
        "crane = Birds(\"Common Crane\")\n",
        "emu = Birds(\"Emu\")\n",
        "\n",
        "vulture.flying_birds()\n",
        "crane.flying_birds()\n",
        "emu.non_flying_birds()"
      ],
      "metadata": {
        "colab": {
          "base_uri": "https://localhost:8080/"
        },
        "id": "WmAV96w3Mb6J",
        "outputId": "3ee7df57-41fa-4150-97d2-2111bc91273d"
      },
      "execution_count": null,
      "outputs": [
        {
          "output_type": "stream",
          "name": "stdout",
          "text": [
            "Griffon Vulture flies above the sky\n",
            "Common Crane flies above the sky\n",
            "Emu is the national bird of Australia\n"
          ]
        }
      ]
    },
    {
      "cell_type": "markdown",
      "source": [
        "Encapsulation (mangling with double underscore)"
      ],
      "metadata": {
        "id": "ZU010xhNPkmz"
      }
    },
    {
      "cell_type": "code",
      "source": [
        "class foo:\n",
        " def __init__(self,a,b):\n",
        "  self.__a = a\n",
        "  self.__b = b\n",
        " \n",
        " def add(self):\n",
        "  return self.__a+ self.__b\n",
        "\n",
        "object_foo = foo(3,4)\n",
        "object_foo.add()\n",
        "\n",
        "object_foo.__a = 6\n",
        "object_foo.__b = 7\n",
        "object_foo.add()\n",
        "\n",
        "\n"
      ],
      "metadata": {
        "colab": {
          "base_uri": "https://localhost:8080/"
        },
        "id": "Df2hAaOAPm6N",
        "outputId": "d7f4bd0a-2955-4507-8311-310e4a4d078d"
      },
      "execution_count": null,
      "outputs": [
        {
          "output_type": "execute_result",
          "data": {
            "text/plain": [
              "7"
            ]
          },
          "metadata": {},
          "execution_count": 17
        }
      ]
    },
    {
      "cell_type": "code",
      "source": [
        "class Counter:\n",
        "  def __init__(self):\n",
        "    self.current = 0\n",
        "  def increment(self):\n",
        "    self.current = 1\n",
        "  def value(self):\n",
        "    self.current\n",
        "  def reset(self):\n",
        "    self.current = 0 \n",
        "\n",
        "number = Counter()\n",
        "number.increment()\n",
        "\n",
        "\n",
        "print(number.value())"
      ],
      "metadata": {
        "colab": {
          "base_uri": "https://localhost:8080/"
        },
        "id": "foiLUU8FSXXR",
        "outputId": "67ed835a-1c10-47c0-f217-04d198abae11"
      },
      "execution_count": null,
      "outputs": [
        {
          "output_type": "stream",
          "name": "stdout",
          "text": [
            "None\n"
          ]
        }
      ]
    },
    {
      "cell_type": "code",
      "source": [
        "class Counter:\n",
        "  def __init__(self):\n",
        "    self.__current = 0\n",
        "  def increment(self):\n",
        "    self.__current+=1\n",
        "  def value(self):\n",
        "    return self.__current\n",
        "  def reset(self):\n",
        "    self.__current = 0 \n",
        "\n",
        "number = Counter()\n",
        "number.__current = 1\n",
        "\n",
        "number.increment()\n",
        "number.increment()\n",
        "number.increment()\n",
        "\n",
        "\n",
        "print(number.value())"
      ],
      "metadata": {
        "colab": {
          "base_uri": "https://localhost:8080/"
        },
        "outputId": "e7d849f2-743a-4710-c81e-bd2fca869629",
        "id": "OMtBM9JITLKn"
      },
      "execution_count": null,
      "outputs": [
        {
          "output_type": "stream",
          "name": "stdout",
          "text": [
            "3\n"
          ]
        }
      ]
    },
    {
      "cell_type": "markdown",
      "source": [
        "Inheritance"
      ],
      "metadata": {
        "id": "GVTF5Ba0VAol"
      }
    },
    {
      "cell_type": "code",
      "source": [
        "class Person:\n",
        "  def __init__(self,firstname,surname):\n",
        "    self.firstname = firstname\n",
        "    self.surname = surname\n",
        "\n",
        "  def fullname(self):\n",
        "    print(self.firstname,self.surname)\n",
        "\n",
        "person = Person(\"John\", \"Daguio\")\n",
        "person.fullname()\n",
        "\n",
        "class Teacher(Person):\n",
        "  pass\n",
        "\n",
        "person2 = Teacher(\"Maam\",\"Maria\")\n",
        "person2.fullname()\n",
        "\n",
        "class Student(Person):\n",
        "  pass\n",
        "\n",
        "person3 = Student(\"Lance\",\"Alcala\")\n",
        "person3.fullname()\n"
      ],
      "metadata": {
        "colab": {
          "base_uri": "https://localhost:8080/"
        },
        "id": "t3Z8J6VgVC7J",
        "outputId": "81e9548d-9baf-4af1-dd26-06627ba192e9"
      },
      "execution_count": null,
      "outputs": [
        {
          "output_type": "stream",
          "name": "stdout",
          "text": [
            "John Daguio\n",
            "Maam Maria\n",
            "Lance Alcala\n"
          ]
        }
      ]
    },
    {
      "cell_type": "markdown",
      "source": [
        "Polymorphism"
      ],
      "metadata": {
        "id": "655jWkiIXczh"
      }
    },
    {
      "cell_type": "code",
      "source": [
        "class RegularPolygon:\n",
        "  def __init__(self,side):\n",
        "    self.side = side\n",
        "class Square(RegularPolygon):\n",
        "  def area(self):\n",
        "    return self.side * self.side\n",
        "class EquilateralTriangle(RegularPolygon):\n",
        "  def area(self):\n",
        "    return self.side * self.side * 0.433\n",
        "\n",
        "obj1 = Square(4)\n",
        "print(obj1.area())\n",
        "\n",
        "obj2 = EquilateralTriangle(3)\n",
        "print(obj2.area())"
      ],
      "metadata": {
        "colab": {
          "base_uri": "https://localhost:8080/"
        },
        "id": "rfE6yJq5Xe-i",
        "outputId": "3ec8c2f4-cac0-43b7-bf99-f31516792709"
      },
      "execution_count": null,
      "outputs": [
        {
          "output_type": "stream",
          "name": "stdout",
          "text": [
            "16\n",
            "3.897\n"
          ]
        }
      ]
    },
    {
      "cell_type": "markdown",
      "source": [
        "Application 1\n",
        "\n",
        "1. Create a Python program that displays the name of three students(Student 1, Student 2, and Student 3) and their term grades.\n",
        "2. Create a class name Person and attributes - std1, std2, std3, pre, mid,fin\n",
        "3.Compute the average of each term grade using Grade() method\n",
        "4. Information about student's grades must be hidden from others"
      ],
      "metadata": {
        "id": "HYWIaEYEGe52"
      }
    },
    {
      "cell_type": "code",
      "source": [
        "class Person:\n",
        "  def __init__(self,std1, pre):\n",
        "    self.__std1 = std1\n",
        "    self.__pre = pre\n",
        "  def student_name(self):\n",
        "    print(\"The name of student =\",f\"{self.__std1}\")\n",
        "  def Grade(self):\n",
        "    print(\"Grade =\",f\"{self.__pre*0.7 + self.__pre*0.3}\") \n",
        "\n",
        "person1 = Person(\"Student 1\", 70) #the grade 70 represents the total score for both activities and exam\n",
        "person1.student_name()\n",
        "person1.Grade()\n",
        "\n",
        "class Mid(Person):\n",
        "  pass \n",
        "person12 = Mid(\"Student 1\", 90) #the grade 90 represents the total score for both activities and exam\n",
        "\n",
        "person12.student_name()\n",
        "person12.Grade()\n",
        "\n",
        "class Fin(Person):\n",
        "  pass\n",
        "\n",
        "person13 = Fin(\"Student 1\", 80) #the grade 80 represents the total score for both activities and exam\n",
        "person13.student_name()\n",
        "person13.Grade()\n",
        "\n",
        "class Student2(Person):\n",
        "  pass \n",
        "\n",
        "person2 = Student2(\"Student 2\", 76) #the grade 76 represents the total score for both activities and exam\n",
        "person2.student_name()\n",
        "person2.Grade()\n",
        "\n",
        "class Mid2(Person):\n",
        "  pass\n",
        "\n",
        "person22 = Student2(\"Student 2\", 85) #the grade 85 represents the total score for both activities and exam \n",
        "person22.student_name()\n",
        "person22.Grade()\n",
        "\n",
        "class Fin2(Person):\n",
        "  pass\n",
        "person23 = Student2(\"Student 2\", 94) #the grade 94 represents the total score for both activities and exam\n",
        "person23.student_name()\n",
        "person23.Grade()\n",
        "\n",
        "class Student3(Person):\n",
        "  pass\n",
        "person3 = Student3(\"Student 3\", 87) #the grade 87 represents the total score for both activities and exam\n",
        "person3.student_name()\n",
        "person3.Grade()\n",
        "\n",
        "class Mid3(Person):\n",
        "  pass\n",
        "person32 = Mid3(\"Student 3\", 79) #the grade 79 represents the total score for both activities and exam\n",
        "person32.student_name()\n",
        "person32.Grade()\n",
        "\n",
        "class Fin3(Person):\n",
        "  pass\n",
        "person33 = Fin3(\"Student 3\", 96) #the grade 96 represents the total score for both activities and exam\n",
        "person33.student_name()\n",
        "person33.Grade()"
      ],
      "metadata": {
        "colab": {
          "base_uri": "https://localhost:8080/"
        },
        "id": "pA9usy43HUU-",
        "outputId": "87671064-e6f3-4c00-cfb4-91d22c83dfa4"
      },
      "execution_count": null,
      "outputs": [
        {
          "output_type": "stream",
          "name": "stdout",
          "text": [
            "The name of student = Student 1\n",
            "Grade = 70.0\n",
            "The name of student = Student 1\n",
            "Grade = 90.0\n",
            "The name of student = Student 1\n",
            "Grade = 80.0\n",
            "The name of student = Student 2\n",
            "Grade = 76.0\n",
            "The name of student = Student 2\n",
            "Grade = 85.0\n",
            "The name of student = Student 2\n",
            "Grade = 94.0\n",
            "The name of student = Student 3\n",
            "Grade = 87.0\n",
            "The name of student = Student 3\n",
            "Grade = 79.0\n",
            "The name of student = Student 3\n",
            "Grade = 95.99999999999999\n"
          ]
        }
      ]
    }
  ]
}