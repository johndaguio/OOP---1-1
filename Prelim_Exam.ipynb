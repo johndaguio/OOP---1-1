{
  "nbformat": 4,
  "nbformat_minor": 0,
  "metadata": {
    "colab": {
      "name": "Prelim Exam.ipynb",
      "provenance": [],
      "authorship_tag": "ABX9TyNpyWxWJ4pKLtVVfi4DqrHx",
      "include_colab_link": true
    },
    "kernelspec": {
      "name": "python3",
      "display_name": "Python 3"
    },
    "language_info": {
      "name": "python"
    }
  },
  "cells": [
    {
      "cell_type": "markdown",
      "metadata": {
        "id": "view-in-github",
        "colab_type": "text"
      },
      "source": [
        "<a href=\"https://colab.research.google.com/github/johndaguio/OOP---1-1/blob/main/Prelim_Exam.ipynb\" target=\"_parent\"><img src=\"https://colab.research.google.com/assets/colab-badge.svg\" alt=\"Open In Colab\"/></a>"
      ]
    },
    {
      "cell_type": "code",
      "source": [
        "class JohnsClass:\n",
        "  def __init__(self,fullname, student_no, age, course):\n",
        "    self.fullname = fullname\n",
        "    self.student_no = student_no\n",
        "    self.age = age\n",
        "    self.course = course\n",
        "\n",
        "  def display(self):\n",
        "    print(\"My name is\"+\"\",self.fullname)\n",
        "    print(\"My Student Number is\",self.student_no)\n",
        "    print(\"I am\",self.age, \"years old\")\n",
        "    print(\"My course in college is\",self.course)\n",
        "\n",
        "student = JohnsClass(\"John Hendrick S. Daguio\",202101672,19,\"BSCpE\")\n",
        "student.display()"
      ],
      "metadata": {
        "colab": {
          "base_uri": "https://localhost:8080/"
        },
        "id": "WZxdDubB5k49",
        "outputId": "6f0c7168-4455-4aa1-bf45-88fa3aece5b9"
      },
      "execution_count": 5,
      "outputs": [
        {
          "output_type": "stream",
          "name": "stdout",
          "text": [
            "My name is John Hendrick S. Daguio\n",
            "My Student Number is 202101672\n",
            "I am 19 years old\n",
            "My course in college is BSCpE\n"
          ]
        }
      ]
    },
    {
      "cell_type": "code",
      "source": [
        "class Student:\n",
        "  def __init__(self,name, student_no, age, school, course):\n",
        "    self.name = name\n",
        "    self.student_no = student_no\n",
        "    self.age = age \n",
        "    self.school = school \n",
        "    self.course = course \n",
        "\n",
        "  def info(self):\n",
        "    print(\"I am\"+\"\",self.name,\"My student number is\",self.student_no,\"I am\"+\"\",self.age,\"years old\",\"I am currently studying in\",self.school,\"My college course is\",self.course)\n",
        "\n",
        "Myself = Student(\"John Hendrick S. Daguio\",202101672,19,\"CVSU\",\"BSCpE\")\n",
        "Myself.info()"
      ],
      "metadata": {
        "colab": {
          "base_uri": "https://localhost:8080/"
        },
        "id": "YatEm-wH9CFw",
        "outputId": "a78fda84-6f58-4f71-ac0d-2b519fb87a14"
      },
      "execution_count": 9,
      "outputs": [
        {
          "output_type": "stream",
          "name": "stdout",
          "text": [
            "I am John Hendrick S. Daguio My student number is 202101672 I am 19 years old I am currently studying in CVSU My college course is BSCpE\n"
          ]
        }
      ]
    }
  ]
}