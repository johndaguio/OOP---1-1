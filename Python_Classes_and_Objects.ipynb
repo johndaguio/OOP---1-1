{
  "nbformat": 4,
  "nbformat_minor": 0,
  "metadata": {
    "colab": {
      "name": "Python Classes and Objects.ipynb",
      "provenance": [],
      "authorship_tag": "ABX9TyM3N8iEAd9Gbw+0UJnVeReS",
      "include_colab_link": true
    },
    "kernelspec": {
      "name": "python3",
      "display_name": "Python 3"
    },
    "language_info": {
      "name": "python"
    }
  },
  "cells": [
    {
      "cell_type": "markdown",
      "metadata": {
        "id": "view-in-github",
        "colab_type": "text"
      },
      "source": [
        "<a href=\"https://colab.research.google.com/github/johndaguio/OOP---1-1/blob/main/Python_Classes_and_Objects.ipynb\" target=\"_parent\"><img src=\"https://colab.research.google.com/assets/colab-badge.svg\" alt=\"Open In Colab\"/></a>"
      ]
    },
    {
      "cell_type": "markdown",
      "source": [
        "###Class"
      ],
      "metadata": {
        "id": "DBdnPbk3y__9"
      }
    },
    {
      "cell_type": "code",
      "source": [
        "class MyClass:       \n",
        "  pass         #create a class without variable and methods\n"
      ],
      "metadata": {
        "id": "JOslWRZ3zFHa"
      },
      "execution_count": 1,
      "outputs": []
    },
    {
      "cell_type": "code",
      "source": [
        "class MyClass:\n",
        " def __init__(self,name,age):\n",
        "    self.name = name       #create a class with attributes\n",
        "    self.age = age\n",
        "\n",
        " def display(self):\n",
        "      print(self.name, self.age)\n",
        "    \n",
        "person = MyClass(\"John Hendrick S. Daguio\",18)     #create an object name\n",
        "\n",
        "\n",
        "person.display()"
      ],
      "metadata": {
        "colab": {
          "base_uri": "https://localhost:8080/"
        },
        "id": "R_lzvgUGzs6r",
        "outputId": "85c4e50d-ee65-4129-b92c-6776d7e2b691"
      },
      "execution_count": 13,
      "outputs": [
        {
          "output_type": "stream",
          "name": "stdout",
          "text": [
            "John Hendrick S. Daguio 18\n"
          ]
        }
      ]
    },
    {
      "cell_type": "code",
      "source": [
        "#Application 1 - Write a Python program that computes for an area of rectangle A = Ixw\n",
        "\n",
        "class Rectangle:\n",
        "  def __init__(self,l,w):\n",
        "    self.l = l          #attribute names\n",
        "    self.w = w\n",
        "\n",
        "  def Area(self):\n",
        "    print(self.l* self.w) \n",
        "\n",
        "rect = Rectangle(7,3)\n",
        "rect.Area()"
      ],
      "metadata": {
        "colab": {
          "base_uri": "https://localhost:8080/"
        },
        "id": "pBAHfMju2-UH",
        "outputId": "6e297f7f-2a7a-4140-dc1f-b432b579b32e"
      },
      "execution_count": 12,
      "outputs": [
        {
          "output_type": "stream",
          "name": "stdout",
          "text": [
            "21\n"
          ]
        }
      ]
    }
  ]
}